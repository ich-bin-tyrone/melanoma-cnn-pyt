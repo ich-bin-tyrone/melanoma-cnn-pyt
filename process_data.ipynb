{
 "cells": [
  {
   "cell_type": "code",
   "execution_count": 1,
   "metadata": {},
   "outputs": [],
   "source": [
    "#import necessary packages\n",
    "import os                           #for image iteration/loading\n",
    "import cv2                          #for image processing and analysis\n",
    "import matplotlib.pyplot as plt     #for plotting and viz\n",
    "import numpy as np                  #for math stuffs"
   ]
  },
  {
   "cell_type": "code",
   "execution_count": 2,
   "metadata": {},
   "outputs": [],
   "source": [
    "#one hot vector\n",
    "# [1,0] = benign\n",
    "# [0,1] = malignant"
   ]
  },
  {
   "cell_type": "code",
   "execution_count": 3,
   "metadata": {},
   "outputs": [],
   "source": [
    "#standardize image size (dimensions) : make them 50x50 pixels\n",
    "img_size = 50"
   ]
  },
  {
   "cell_type": "code",
   "execution_count": 4,
   "metadata": {},
   "outputs": [],
   "source": [
    "#location of image files\n",
    "ben_training_folder = \"melanoma_cancer_dataset/train/benign/\"\n",
    "mal_training_folder = \"melanoma_cancer_dataset/train/malignant/\"\n",
    "ben_testing_folder = \"melanoma_cancer_dataset/test/benign/\"\n",
    "mal_testing_folder = \"melanoma_cancer_dataset/test/malignant/\""
   ]
  },
  {
   "cell_type": "code",
   "execution_count": 5,
   "metadata": {},
   "outputs": [],
   "source": [
    "ben_training_data = []\n",
    "mal_training_data = []"
   ]
  },
  {
   "cell_type": "code",
   "execution_count": 6,
   "metadata": {},
   "outputs": [],
   "source": [
    "ben_testing_data = []\n",
    "mal_testing_data = []"
   ]
  },
  {
   "cell_type": "code",
   "execution_count": 7,
   "metadata": {},
   "outputs": [],
   "source": [
    "#benign training\n",
    "\n",
    "for filename in os.listdir(ben_training_folder):\n",
    "    try:    #skip corrupter image, it is fine to skip if we have a lot of training data\n",
    "        path = ben_training_folder+filename\n",
    "        #print(path)\n",
    "        \n",
    "        img = cv2.imread(path, cv2.IMREAD_GRAYSCALE)    #grayscale all the img; case-to-case basis depending on the research problem\n",
    "        \n",
    "        # plt.imshow(img)\n",
    "        # plt.show()\n",
    "        # break\n",
    "        \n",
    "        img = cv2.resize(img, (img_size, img_size))     #resize image\n",
    "        \n",
    "        img_array = np.array(img)       #convert image into pixel array; since grayscaled we have 1 value per pixel, if colored (r,g,b) values per pixel\n",
    "        # print(img_array)\n",
    "        # print(img.shape)\n",
    "        # break\n",
    "        \n",
    "        ben_training_data.append([img_array, np.array([1, 0])])\n",
    "        \n",
    "    except:\n",
    "        pass\n",
    "        "
   ]
  },
  {
   "cell_type": "code",
   "execution_count": 8,
   "metadata": {},
   "outputs": [],
   "source": [
    "#malignant training\n",
    "\n",
    "for filename in os.listdir(mal_training_folder):\n",
    "    try:    #skip corrupter image, it is fine to skip if we have a lot of training data\n",
    "        path = mal_training_folder+filename\n",
    "        #print(path)\n",
    "        \n",
    "        img = cv2.imread(path, cv2.IMREAD_GRAYSCALE)    #grayscale all the img; case-to-case basis depending on the research problem\n",
    "        \n",
    "        # plt.imshow(img)\n",
    "        # plt.show()\n",
    "        # break\n",
    "        \n",
    "        img = cv2.resize(img, (img_size, img_size))     #resize image\n",
    "        \n",
    "        img_array = np.array(img)       #convert image into pixel array; since grayscaled we have 1 value per pixel, if colored (r,g,b) values per pixel\n",
    "        # print(img_array)\n",
    "        # print(img.shape)\n",
    "        # break\n",
    "        \n",
    "        mal_training_data.append([img_array, np.array([0, 1])])\n",
    "        \n",
    "    except:\n",
    "        pass"
   ]
  },
  {
   "cell_type": "code",
   "execution_count": 9,
   "metadata": {},
   "outputs": [],
   "source": [
    "#benign testing\n",
    "\n",
    "for filename in os.listdir(ben_testing_folder):\n",
    "    try:    #skip corrupter image, it is fine to skip if we have a lot of training data\n",
    "        path = ben_testing_folder+filename\n",
    "        #print(path)\n",
    "        \n",
    "        img = cv2.imread(path, cv2.IMREAD_GRAYSCALE)    #grayscale all the img; case-to-case basis depending on the research problem\n",
    "        \n",
    "        # plt.imshow(img)\n",
    "        # plt.show()\n",
    "        # break\n",
    "        \n",
    "        img = cv2.resize(img, (img_size, img_size))     #resize image\n",
    "        \n",
    "        img_array = np.array(img)       #convert image into pixel array; since grayscaled we have 1 value per pixel, if colored (r,g,b) values per pixel\n",
    "        # print(img_array)\n",
    "        # print(img.shape)\n",
    "        # break\n",
    "        \n",
    "        ben_testing_data.append([img_array, np.array([1, 0])])\n",
    "        \n",
    "    except:\n",
    "        pass"
   ]
  },
  {
   "cell_type": "code",
   "execution_count": 10,
   "metadata": {},
   "outputs": [],
   "source": [
    "#malignant testing\n",
    "\n",
    "for filename in os.listdir(mal_testing_folder):\n",
    "    try:    #skip corrupter image, it is fine to skip if we have a lot of training data\n",
    "        path = mal_testing_folder+filename\n",
    "        #print(path)\n",
    "        \n",
    "        img = cv2.imread(path, cv2.IMREAD_GRAYSCALE)    #grayscale all the img; case-to-case basis depending on the research problem\n",
    "        \n",
    "        # plt.imshow(img)\n",
    "        # plt.show()\n",
    "        # break\n",
    "        \n",
    "        img = cv2.resize(img, (img_size, img_size))     #resize image\n",
    "        \n",
    "        img_array = np.array(img)       #convert image into pixel array; since grayscaled we have 1 value per pixel, if colored (r,g,b) values per pixel\n",
    "        # print(img_array)\n",
    "        # print(img.shape)\n",
    "        # break\n",
    "        \n",
    "        mal_testing_data.append([img_array, np.array([0, 1])])\n",
    "        \n",
    "    except:\n",
    "        pass"
   ]
  },
  {
   "cell_type": "code",
   "execution_count": 11,
   "metadata": {},
   "outputs": [
    {
     "name": "stdout",
     "output_type": "stream",
     "text": [
      "\n",
      "\n",
      "Benign training count: 5000\n",
      "Malignant training count: 4605\n",
      "\n",
      "Benign testing count: 500\n",
      "Malignant testing count: 500\n"
     ]
    }
   ],
   "source": [
    "#check training class imbalance\n",
    "\n",
    "print()\n",
    "print()\n",
    "print(f\"Benign training count: {len(ben_training_data)}\")\n",
    "print(f\"Malignant training count: {len(mal_training_data)}\")\n",
    "print()\n",
    "print(f\"Benign testing count: {len(ben_testing_data)}\")\n",
    "print(f\"Malignant testing count: {len(mal_testing_data)}\")\n"
   ]
  },
  {
   "cell_type": "code",
   "execution_count": 12,
   "metadata": {},
   "outputs": [],
   "source": [
    "#shorten benign to balance (undersample)\n",
    "\n",
    "ben_training_data = ben_training_data[0:len(mal_training_data)]"
   ]
  },
  {
   "cell_type": "code",
   "execution_count": 13,
   "metadata": {},
   "outputs": [
    {
     "name": "stdout",
     "output_type": "stream",
     "text": [
      "\n",
      "\n",
      "Benign training count: 4605\n",
      "Malignant training count: 4605\n",
      "\n",
      "Benign testing count: 500\n",
      "Malignant testing count: 500\n"
     ]
    }
   ],
   "source": [
    "#recheck training class imbalance\n",
    "\n",
    "print()\n",
    "print()\n",
    "print(f\"Benign training count: {len(ben_training_data)}\")\n",
    "print(f\"Malignant training count: {len(mal_training_data)}\")\n",
    "print()\n",
    "print(f\"Benign testing count: {len(ben_testing_data)}\")\n",
    "print(f\"Malignant testing count: {len(mal_testing_data)}\")\n"
   ]
  },
  {
   "cell_type": "code",
   "execution_count": 14,
   "metadata": {},
   "outputs": [
    {
     "data": {
      "text/plain": [
       "array([[array([[176, 175, 182, ..., 180, 182, 176],\n",
       "               [180, 178, 185, ..., 184, 184, 181],\n",
       "               [182, 181, 185, ..., 184, 184, 179],\n",
       "               ...,\n",
       "               [158, 163, 165, ..., 185, 185, 188],\n",
       "               [165, 163, 167, ..., 184, 188, 185],\n",
       "               [166, 154, 167, ..., 183, 184, 188]], dtype=uint8),\n",
       "        array([0, 1])],\n",
       "       [array([[246, 246, 244, ..., 110, 107, 112],\n",
       "               [247, 246, 244, ..., 110, 116, 119],\n",
       "               [247, 246, 244, ..., 105,  98,  90],\n",
       "               ...,\n",
       "               [252, 250, 250, ...,  59,  63,  65],\n",
       "               [252, 252, 250, ...,  62,  64,  64],\n",
       "               [251, 250, 248, ...,  67,  69,  66]], dtype=uint8),\n",
       "        array([0, 1])],\n",
       "       [array([[102, 137, 144, ...,  93,  91,  79],\n",
       "               [125, 133, 146, ...,  99,  96,  86],\n",
       "               [127, 133, 149, ..., 107, 108,  94],\n",
       "               ...,\n",
       "               [130, 142, 148, ..., 124, 117, 117],\n",
       "               [128, 138, 142, ..., 118, 116, 111],\n",
       "               [128, 132, 141, ..., 120, 116, 113]], dtype=uint8),\n",
       "        array([0, 1])],\n",
       "       ...,\n",
       "       [array([[129, 128, 138, ..., 139, 134, 127],\n",
       "               [123, 129, 134, ..., 145, 137, 129],\n",
       "               [124, 129, 134, ..., 146, 138, 127],\n",
       "               ...,\n",
       "               [131, 137, 136, ..., 115, 104,  99],\n",
       "               [128, 138, 142, ..., 116,  97,  91],\n",
       "               [126, 137, 140, ..., 112,  95,  86]], dtype=uint8),\n",
       "        array([1, 0])],\n",
       "       [array([[0, 0, 0, ..., 0, 0, 0],\n",
       "               [0, 0, 0, ..., 0, 0, 0],\n",
       "               [0, 0, 0, ..., 0, 0, 0],\n",
       "               ...,\n",
       "               [0, 0, 0, ..., 0, 0, 0],\n",
       "               [0, 0, 0, ..., 0, 0, 0],\n",
       "               [0, 0, 0, ..., 0, 0, 0]], dtype=uint8), array([0, 1])],\n",
       "       [array([[125, 133, 146, ..., 184, 174, 167],\n",
       "               [131, 138, 142, ..., 192, 174, 174],\n",
       "               [132, 140, 142, ..., 196, 181, 173],\n",
       "               ...,\n",
       "               [  0,   0,   0, ..., 170, 164, 161],\n",
       "               [  0,   0,   0, ..., 168, 161, 161],\n",
       "               [  0,   0,   0, ..., 163, 163, 159]], dtype=uint8),\n",
       "        array([0, 1])]], dtype=object)"
      ]
     },
     "execution_count": 14,
     "metadata": {},
     "output_type": "execute_result"
    }
   ],
   "source": [
    "#merge training data\n",
    "training_data = ben_training_data + mal_training_data\n",
    "np.random.shuffle(training_data)    #shuffling is important as the classifier may learn pattern from the arrangement\n",
    "training_data = np.asarray(training_data, dtype=\"object\")   #to avoid ValueError:  setting an array element with a sequence. The requested array has an inhomogeneous shape after 1 dimensions. The detected shape was (2,) + inhomogeneous part.\n",
    "training_data"
   ]
  },
  {
   "cell_type": "code",
   "execution_count": 15,
   "metadata": {},
   "outputs": [],
   "source": [
    "#save the datasets\n",
    "np.save(\"melanoma_training_data.npy\", training_data)"
   ]
  },
  {
   "cell_type": "code",
   "execution_count": 16,
   "metadata": {},
   "outputs": [
    {
     "data": {
      "text/plain": [
       "array([[array([[  6,  49,  75, ...,  98,  83,  65],\n",
       "               [ 31,  62,  85, ..., 105,  88,  72],\n",
       "               [ 51,  76,  98, ..., 111, 100,  85],\n",
       "               ...,\n",
       "               [ 18,  63,  76, ...,  76,  59,  38],\n",
       "               [  6,  48,  64, ...,  67,  49,  32],\n",
       "               [  5,   9,  56, ...,  54,  40,  33]], dtype=uint8),\n",
       "        array([1, 0])],\n",
       "       [array([[203, 204, 206, ..., 195, 196, 199],\n",
       "               [201, 203, 205, ..., 195, 199, 200],\n",
       "               [201, 203, 201, ..., 198, 201, 202],\n",
       "               ...,\n",
       "               [183, 175, 177, ..., 209, 208, 209],\n",
       "               [186, 188, 190, ..., 208, 209, 207],\n",
       "               [193, 193, 195, ..., 208, 206, 205]], dtype=uint8),\n",
       "        array([0, 1])],\n",
       "       [array([[165, 168, 176, ..., 173, 159, 150],\n",
       "               [168, 167, 175, ..., 165, 151, 138],\n",
       "               [170, 176, 176, ..., 168, 161, 130],\n",
       "               ...,\n",
       "               [149, 153, 156, ..., 161, 158, 146],\n",
       "               [149, 147, 149, ..., 160, 157, 152],\n",
       "               [137, 143, 154, ..., 164, 151, 142]], dtype=uint8),\n",
       "        array([1, 0])],\n",
       "       ...,\n",
       "       [array([[148, 153, 159, ..., 156, 148, 139],\n",
       "               [147, 156, 162, ..., 128, 147, 141],\n",
       "               [156, 158, 162, ..., 165, 149, 144],\n",
       "               ...,\n",
       "               [147, 155, 164, ..., 155, 141, 133],\n",
       "               [142, 152, 151, ..., 154, 142, 137],\n",
       "               [140, 148, 155, ..., 141, 140, 130]], dtype=uint8),\n",
       "        array([1, 0])],\n",
       "       [array([[179, 177, 183, ..., 172, 159, 155],\n",
       "               [176, 183, 187, ..., 177, 170, 161],\n",
       "               [175, 177, 190, ..., 175, 168, 163],\n",
       "               ...,\n",
       "               [148, 163, 170, ..., 191, 173, 170],\n",
       "               [140, 158, 165, ..., 177, 174, 170],\n",
       "               [131, 147, 158, ..., 172, 169, 167]], dtype=uint8),\n",
       "        array([1, 0])],\n",
       "       [array([[ 96,  59,  74, ..., 142, 131, 116],\n",
       "               [ 95, 132, 132, ..., 140, 131, 121],\n",
       "               [126, 134, 130, ..., 138, 135, 120],\n",
       "               ...,\n",
       "               [134, 141, 143, ..., 117, 107, 101],\n",
       "               [132, 134, 138, ...,  94,  83,  74],\n",
       "               [130, 134, 115, ..., 114, 100,  92]], dtype=uint8),\n",
       "        array([1, 0])]], dtype=object)"
      ]
     },
     "execution_count": 16,
     "metadata": {},
     "output_type": "execute_result"
    }
   ],
   "source": [
    "#merge testing data\n",
    "testing_data = ben_testing_data + mal_testing_data\n",
    "np.random.shuffle(testing_data)    #shuffling is important as the classifier may learn pattern from the arrangement\n",
    "testing_data = np.asarray(testing_data, dtype=\"object\")   #to avoid ValueError:  setting an array element with a sequence. The requested array has an inhomogeneous shape after 1 dimensions. The detected shape was (2,) + inhomogeneous part.\n",
    "testing_data"
   ]
  },
  {
   "cell_type": "code",
   "execution_count": 17,
   "metadata": {},
   "outputs": [],
   "source": [
    "#save the datasets\n",
    "np.save(\"melanoma_testing_data.npy\", testing_data)"
   ]
  }
 ],
 "metadata": {
  "kernelspec": {
   "display_name": "Python 3",
   "language": "python",
   "name": "python3"
  },
  "language_info": {
   "codemirror_mode": {
    "name": "ipython",
    "version": 3
   },
   "file_extension": ".py",
   "mimetype": "text/x-python",
   "name": "python",
   "nbconvert_exporter": "python",
   "pygments_lexer": "ipython3",
   "version": "3.9.6"
  }
 },
 "nbformat": 4,
 "nbformat_minor": 2
}
