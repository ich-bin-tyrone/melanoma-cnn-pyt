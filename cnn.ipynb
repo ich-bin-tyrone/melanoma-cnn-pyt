{
 "cells": [
  {
   "cell_type": "code",
   "execution_count": 1,
   "metadata": {},
   "outputs": [],
   "source": [
    "#import necessary pkgs\n",
    "import torch\n",
    "import torch.nn as nn\n",
    "import torch.nn.functional as F\n",
    "import sys"
   ]
  },
  {
   "cell_type": "code",
   "execution_count": 2,
   "metadata": {},
   "outputs": [],
   "source": [
    "#standardize image size (dimensions) : make them 50x50 pixels\n",
    "img_size = 50"
   ]
  },
  {
   "cell_type": "code",
   "execution_count": 3,
   "metadata": {},
   "outputs": [],
   "source": [
    "#need a tutorial in pytorch\n",
    "class Net(nn.Module):\n",
    "    \n",
    "    #constructor\n",
    "    def __init__(self):\n",
    "        \n",
    "        super().__init__()\n",
    "        \n",
    "        self.conv1 = nn.Conv2d(1,32,kernel_size=5)  #1st conv layer; input=1, output=32\n",
    "        self.conv2 = nn.Conv2d(32,64,kernel_size=5)  #2nd conv layer; input=32, output=64\n",
    "        self.conv3 = nn.Conv2d(64,128,kernel_size=5)  #3rd conv layer; input=64, output=128\n",
    "        \n",
    "        #TODO - need to get input size-- uncomment print,sys-exit,testimg\n",
    "        self.fc1 = nn.Linear(128*2*2, 512)  #fully-con 1st linear layer, we need to figure what the input is\n",
    "        self.fc2 = nn.Linear(512, 2)  #fully-con output linear layer, output must be same as classes (2 in our case)\n",
    "        \n",
    "    def forward(self,x):    #x is the image we are passing\n",
    "        \n",
    "        x = F.max_pool2d(F.relu(self.conv1(x)), (2,2))  #passing x to conv1 then activate using ReLU then apply 2x2 max pooling\n",
    "        #print(f\"shape after conv1: {x.shape}\")\n",
    "        \n",
    "        x = F.max_pool2d(F.relu(self.conv2(x)), (2,2))  #passing x to conv1 then activate using ReLU then apply 2x2 max pooling\n",
    "        #print(f\"shape after conv2: {x.shape}\")\n",
    "        \n",
    "        x = F.max_pool2d(F.relu(self.conv3(x)), (2,2))  #passing x to conv1 then activate using ReLU then apply 2x2 max pooling\n",
    "        #print(f\"shape after conv3: {x.shape}\")      #this is the important shape\n",
    "        \n",
    "        #sys.exit(\"trying to get shape\")\n",
    "        \n",
    "        #--------\n",
    "        \n",
    "        x = x.view(-1, 128*2*2) #reshape tensor\n",
    "        \n",
    "        x = F.relu(self.fc1(x))\n",
    "        x = self.fc2(x)\n",
    "        \n",
    "        x = F.softmax(x)    #converts to probability\n",
    "        \n",
    "        return(x)\n",
    "        \n",
    "        \n",
    "        \n",
    "        \n",
    "        "
   ]
  },
  {
   "cell_type": "code",
   "execution_count": 4,
   "metadata": {},
   "outputs": [
    {
     "name": "stdout",
     "output_type": "stream",
     "text": [
      "shape after conv1: torch.Size([1, 32, 23, 23])\n",
      "shape after conv2: torch.Size([1, 64, 9, 9])\n",
      "shape after conv3: torch.Size([1, 128, 2, 2])\n"
     ]
    },
    {
     "name": "stderr",
     "output_type": "stream",
     "text": [
      "/Users/tyronemariano/Library/Python/3.9/lib/python/site-packages/torch/nn/init.py:511: UserWarning: Initializing zero-element tensors is a no-op\n",
      "  warnings.warn(\"Initializing zero-element tensors is a no-op\")\n"
     ]
    },
    {
     "ename": "SystemExit",
     "evalue": "trying to get shape",
     "output_type": "error",
     "traceback": [
      "An exception has occurred, use %tb to see the full traceback.\n",
      "\u001b[0;31mSystemExit\u001b[0m\u001b[0;31m:\u001b[0m trying to get shape\n"
     ]
    },
    {
     "name": "stderr",
     "output_type": "stream",
     "text": [
      "/Users/tyronemariano/Library/Python/3.9/lib/python/site-packages/IPython/core/interactiveshell.py:3558: UserWarning: To exit: use 'exit', 'quit', or Ctrl-D.\n",
      "  warn(\"To exit: use 'exit', 'quit', or Ctrl-D.\", stacklevel=1)\n"
     ]
    }
   ],
   "source": [
    "# #this is done to find the input size for conv3d\n",
    "\n",
    "# net = Net()\n",
    "\n",
    "# test_img = torch.randn(img_size, img_size).view(-1,1,img_size, img_size)\n",
    "\n",
    "# output = net(test_img)"
   ]
  },
  {
   "cell_type": "code",
   "execution_count": null,
   "metadata": {},
   "outputs": [],
   "source": [
    "##"
   ]
  },
  {
   "cell_type": "code",
   "execution_count": null,
   "metadata": {},
   "outputs": [],
   "source": []
  }
 ],
 "metadata": {
  "kernelspec": {
   "display_name": "Python 3",
   "language": "python",
   "name": "python3"
  },
  "language_info": {
   "codemirror_mode": {
    "name": "ipython",
    "version": 3
   },
   "file_extension": ".py",
   "mimetype": "text/x-python",
   "name": "python",
   "nbconvert_exporter": "python",
   "pygments_lexer": "ipython3",
   "version": "3.9.6"
  }
 },
 "nbformat": 4,
 "nbformat_minor": 2
}
