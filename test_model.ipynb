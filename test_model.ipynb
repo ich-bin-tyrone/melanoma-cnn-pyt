{
 "cells": [
  {
   "cell_type": "code",
   "execution_count": 1,
   "metadata": {},
   "outputs": [],
   "source": [
    "#import necessary pkgs\n",
    "\n",
    "import numpy as np\n",
    "import torch\n",
    "from ipynb.fs.full.cnn import Net"
   ]
  },
  {
   "cell_type": "code",
   "execution_count": 2,
   "metadata": {},
   "outputs": [],
   "source": [
    "#standardize image size (dimensions) : make them 50x50 pixels\n",
    "img_size = 50"
   ]
  },
  {
   "cell_type": "code",
   "execution_count": 3,
   "metadata": {},
   "outputs": [],
   "source": [
    "net = Net()"
   ]
  },
  {
   "cell_type": "code",
   "execution_count": 4,
   "metadata": {},
   "outputs": [
    {
     "name": "stderr",
     "output_type": "stream",
     "text": [
      "/var/folders/fq/09kvyhs13yv_g91hj_p6y7m00000gn/T/ipykernel_74666/2763589891.py:1: FutureWarning: You are using `torch.load` with `weights_only=False` (the current default value), which uses the default pickle module implicitly. It is possible to construct malicious pickle data which will execute arbitrary code during unpickling (See https://github.com/pytorch/pytorch/blob/main/SECURITY.md#untrusted-models for more details). In a future release, the default value for `weights_only` will be flipped to `True`. This limits the functions that could be executed during unpickling. Arbitrary objects will no longer be allowed to be loaded via this mode unless they are explicitly allowlisted by the user via `torch.serialization.add_safe_globals`. We recommend you start setting `weights_only=True` for any use case where you don't have full control of the loaded file. Please open an issue on GitHub for any issues related to this experimental feature.\n",
      "  net.load_state_dict(torch.load('saved_model.pth'))\n"
     ]
    },
    {
     "data": {
      "text/plain": [
       "Net(\n",
       "  (conv1): Conv2d(1, 32, kernel_size=(5, 5), stride=(1, 1))\n",
       "  (conv2): Conv2d(32, 64, kernel_size=(5, 5), stride=(1, 1))\n",
       "  (conv3): Conv2d(64, 128, kernel_size=(5, 5), stride=(1, 1))\n",
       "  (fc1): Linear(in_features=512, out_features=512, bias=True)\n",
       "  (fc2): Linear(in_features=512, out_features=2, bias=True)\n",
       ")"
      ]
     },
     "execution_count": 4,
     "metadata": {},
     "output_type": "execute_result"
    }
   ],
   "source": [
    "net.load_state_dict(torch.load('saved_model.pth'))\n",
    "net.eval()"
   ]
  },
  {
   "cell_type": "code",
   "execution_count": 5,
   "metadata": {},
   "outputs": [],
   "source": [
    "#read training data\n",
    "testing_data = np.load(\"melanoma_testing_data.npy\", allow_pickle=True)"
   ]
  },
  {
   "cell_type": "code",
   "execution_count": 6,
   "metadata": {},
   "outputs": [
    {
     "name": "stderr",
     "output_type": "stream",
     "text": [
      "/var/folders/fq/09kvyhs13yv_g91hj_p6y7m00000gn/T/ipykernel_74666/3446093839.py:2: UserWarning: Creating a tensor from a list of numpy.ndarrays is extremely slow. Please consider converting the list to a single numpy.ndarray with numpy.array() before converting to a tensor. (Triggered internally at /Users/runner/work/pytorch/pytorch/pytorch/torch/csrc/utils/tensor_new.cpp:281.)\n",
      "  test_X = torch.Tensor([item[0] for item in testing_data])\n"
     ]
    }
   ],
   "source": [
    "#separate dep feature and ind feature into different tensor objects\n",
    "test_X = torch.Tensor([item[0] for item in testing_data])\n",
    "test_X = test_X/255   #normalize\n",
    "\n",
    "# for row in test_X:\n",
    "#     print(row)\n",
    "#     print()\n",
    "#     input()"
   ]
  },
  {
   "cell_type": "code",
   "execution_count": 7,
   "metadata": {},
   "outputs": [],
   "source": [
    "#separate dep feature and ind feature into different tensor objects\n",
    "test_y = torch.Tensor([item[1] for item in testing_data])"
   ]
  },
  {
   "cell_type": "code",
   "execution_count": 8,
   "metadata": {},
   "outputs": [],
   "source": [
    "correct = 0\n",
    "total = 0"
   ]
  },
  {
   "cell_type": "code",
   "execution_count": 9,
   "metadata": {},
   "outputs": [
    {
     "name": "stderr",
     "output_type": "stream",
     "text": [
      "/Users/tyronemariano/Desktop/melanoma_mal-vs-ben/cnn.ipynb:51: UserWarning: Implicit dimension choice for softmax has been deprecated. Change the call to include dim=X as an argument.\n",
      "  \"        #print(f\\\"shape after conv1: {x.shape}\\\")\\n\",\n"
     ]
    }
   ],
   "source": [
    "with torch.no_grad():\n",
    "    #tells pytorch to not automatically keep track of gradients\n",
    "    \n",
    "    for i in range(len(test_X)):\n",
    "        \n",
    "        output = net(test_X[i].view(-1, 1, img_size, img_size))[0]     #passing reshaped\n",
    "        \n",
    "        if output[0] > output[1]:\n",
    "            guess = \"B\"\n",
    "        else:\n",
    "            guess = \"M\"\n",
    "            \n",
    "            \n",
    "        real_label = test_y[i]\n",
    "        \n",
    "        if real_label[0] > real_label[1]:\n",
    "            real_class = \"B\"\n",
    "        else:\n",
    "            real_class = \"M\"\n",
    "        \n",
    "        \n",
    "        if guess == real_class:\n",
    "            correct += 1\n",
    "        \n",
    "        total += 1\n",
    "        \n",
    "        "
   ]
  },
  {
   "cell_type": "code",
   "execution_count": 10,
   "metadata": {},
   "outputs": [
    {
     "name": "stdout",
     "output_type": "stream",
     "text": [
      "Accuracy: 0.879\n"
     ]
    }
   ],
   "source": [
    "print(f\"Accuracy: {round(correct/total,3)}\")"
   ]
  }
 ],
 "metadata": {
  "kernelspec": {
   "display_name": "Python 3",
   "language": "python",
   "name": "python3"
  },
  "language_info": {
   "codemirror_mode": {
    "name": "ipython",
    "version": 3
   },
   "file_extension": ".py",
   "mimetype": "text/x-python",
   "name": "python",
   "nbconvert_exporter": "python",
   "pygments_lexer": "ipython3",
   "version": "3.9.6"
  }
 },
 "nbformat": 4,
 "nbformat_minor": 2
}
